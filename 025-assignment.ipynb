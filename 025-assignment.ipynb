{
 "cells": [
  {
   "cell_type": "markdown",
   "metadata": {},
   "source": [
    "<font size=\"+3\"><strong>Assignment: Predicting Apartment Prices in Mexico City 🇲🇽</strong></font>"
   ]
  },
  {
   "cell_type": "markdown",
   "metadata": {},
   "source": [
    "Import libraries here"
   ]
  },
  {
   "cell_type": "code",
   "execution_count": 4,
   "metadata": {},
   "outputs": [],
   "source": [
    "from glob import glob"
   ]
  },
  {
   "cell_type": "code",
   "execution_count": 5,
   "metadata": {},
   "outputs": [],
   "source": [
    "import pandas as pd\n",
    "import matplotlib.pyplot as plt\n",
    "import plotly.express as px \n",
    "from category_encoders import OneHotEncoder\n",
    "from sklearn.impute import SimpleImputer\n",
    "from sklearn.linear_model import LinearRegression, Ridge\n",
    "from sklearn.metrics import mean_absolute_error\n",
    "from sklearn.pipeline import make_pipeline\n",
    "from sklearn.utils.validation import check_is_fitted"
   ]
  },
  {
   "cell_type": "markdown",
   "metadata": {},
   "source": [
    "# Prepare Data"
   ]
  },
  {
   "cell_type": "markdown",
   "metadata": {},
   "source": [
    "## Import"
   ]
  },
  {
   "cell_type": "markdown",
   "metadata": {},
   "source": [
    "**Task 2.5.1:** (8 points) Write a `wrangle` function that takes the name of a CSV file as input and returns a DataFrame. The function should do the following steps:<br>\n",
    "<br>\n",
    "1. Subset the data in the CSV file and return only apartments in Mexico City (`\"Distrito Federal\"`) that cost less than \\$100,000.<br>\n",
    "2. Remove outliers by trimming the bottom and top 10\\% of properties in terms of `\"surface_covered_in_m2\"`.<br>\n",
    "3. Create separate `\"lat\"` and `\"lon\"` columns.<br>\n",
    "4. Mexico City is divided into [16 boroughs](https://en.wikipedia.org/wiki/Boroughs_of_Mexico_City). Create a `\"borough\"` feature from the `\"place_with_parent_names\"` column.<br>\n",
    "5. Drop columns that are more than 50\\% null values.<br>\n",
    "6. Drop columns containing low- or high-cardinality categorical values. <br>\n",
    "7. Drop any columns that would constitute leakage for the target `\"price_aprox_usd\"`.<br>\n",
    "8. Drop any columns that would create issues of multicollinearity. <br>\n",
    "<br>\n",
    "<div class=\"alert alert-block alert-info\"><br>\n",
    "<b>Tip:</b> Don't try to satisfy all the criteria in the first version of your <code>wrangle</code> function. Instead, work iteratively. Start with the first criteria, test it out with one of the Mexico CSV files in the <code>data/</code> directory, and submit it to the grader for feedback. Then add the next criteria.</div>"
   ]
  },
  {
   "cell_type": "code",
   "execution_count": 7,
   "metadata": {},
   "outputs": [
    {
     "data": {
      "text/html": [
       "<div>\n",
       "<style scoped>\n",
       "    .dataframe tbody tr th:only-of-type {\n",
       "        vertical-align: middle;\n",
       "    }\n",
       "\n",
       "    .dataframe tbody tr th {\n",
       "        vertical-align: top;\n",
       "    }\n",
       "\n",
       "    .dataframe thead th {\n",
       "        text-align: right;\n",
       "    }\n",
       "</style>\n",
       "<table border=\"1\" class=\"dataframe\">\n",
       "  <thead>\n",
       "    <tr style=\"text-align: right;\">\n",
       "      <th></th>\n",
       "      <th>Unnamed: 0</th>\n",
       "      <th>operation</th>\n",
       "      <th>property_type</th>\n",
       "      <th>place_with_parent_names</th>\n",
       "      <th>lat-lon</th>\n",
       "      <th>price</th>\n",
       "      <th>currency</th>\n",
       "      <th>price_aprox_local_currency</th>\n",
       "      <th>price_aprox_usd</th>\n",
       "      <th>surface_total_in_m2</th>\n",
       "      <th>surface_covered_in_m2</th>\n",
       "      <th>price_usd_per_m2</th>\n",
       "      <th>price_per_m2</th>\n",
       "      <th>floor</th>\n",
       "      <th>rooms</th>\n",
       "      <th>expenses</th>\n",
       "      <th>properati_url</th>\n",
       "    </tr>\n",
       "  </thead>\n",
       "  <tbody>\n",
       "    <tr>\n",
       "      <th>0</th>\n",
       "      <td>1</td>\n",
       "      <td>sell</td>\n",
       "      <td>apartment</td>\n",
       "      <td>|Miguel Hidalgo|Distrito Federal|México|</td>\n",
       "      <td>23.634501,-102.552788</td>\n",
       "      <td>5500000.0</td>\n",
       "      <td>MXN</td>\n",
       "      <td>5450245.50</td>\n",
       "      <td>289775.66</td>\n",
       "      <td>NaN</td>\n",
       "      <td>54.0</td>\n",
       "      <td>NaN</td>\n",
       "      <td>101851.851900</td>\n",
       "      <td>NaN</td>\n",
       "      <td>NaN</td>\n",
       "      <td>NaN</td>\n",
       "      <td>http://miguel-hidalgo-df.properati.com.mx/o3zb...</td>\n",
       "    </tr>\n",
       "    <tr>\n",
       "      <th>1</th>\n",
       "      <td>2</td>\n",
       "      <td>sell</td>\n",
       "      <td>house</td>\n",
       "      <td>|Iztapalapa|Distrito Federal|México|</td>\n",
       "      <td>19.31033,-99.068557</td>\n",
       "      <td>1512000.0</td>\n",
       "      <td>MXN</td>\n",
       "      <td>1498321.97</td>\n",
       "      <td>79661.96</td>\n",
       "      <td>NaN</td>\n",
       "      <td>80.0</td>\n",
       "      <td>NaN</td>\n",
       "      <td>18900.000000</td>\n",
       "      <td>NaN</td>\n",
       "      <td>NaN</td>\n",
       "      <td>NaN</td>\n",
       "      <td>http://iztapalapa.properati.com.mx/q7t0_venta_...</td>\n",
       "    </tr>\n",
       "    <tr>\n",
       "      <th>2</th>\n",
       "      <td>3</td>\n",
       "      <td>sell</td>\n",
       "      <td>apartment</td>\n",
       "      <td>|Tlalpan|Distrito Federal|México|</td>\n",
       "      <td>19.279771,-99.234597</td>\n",
       "      <td>926667.0</td>\n",
       "      <td>MXN</td>\n",
       "      <td>918284.00</td>\n",
       "      <td>48822.82</td>\n",
       "      <td>NaN</td>\n",
       "      <td>100.0</td>\n",
       "      <td>NaN</td>\n",
       "      <td>9266.670000</td>\n",
       "      <td>NaN</td>\n",
       "      <td>NaN</td>\n",
       "      <td>NaN</td>\n",
       "      <td>http://tlalpan.properati.com.mx/qbi4_venta_dep...</td>\n",
       "    </tr>\n",
       "    <tr>\n",
       "      <th>3</th>\n",
       "      <td>4</td>\n",
       "      <td>sell</td>\n",
       "      <td>apartment</td>\n",
       "      <td>|Miguel Hidalgo|Distrito Federal|México|</td>\n",
       "      <td>23.634501,-102.552788</td>\n",
       "      <td>6410000.0</td>\n",
       "      <td>MXN</td>\n",
       "      <td>6352013.39</td>\n",
       "      <td>337720.36</td>\n",
       "      <td>NaN</td>\n",
       "      <td>135.0</td>\n",
       "      <td>NaN</td>\n",
       "      <td>47481.481480</td>\n",
       "      <td>NaN</td>\n",
       "      <td>NaN</td>\n",
       "      <td>NaN</td>\n",
       "      <td>http://miguel-hidalgo-df.properati.com.mx/opeq...</td>\n",
       "    </tr>\n",
       "    <tr>\n",
       "      <th>4</th>\n",
       "      <td>5</td>\n",
       "      <td>sell</td>\n",
       "      <td>apartment</td>\n",
       "      <td>|Benito Juárez|Quintana Roo|México|</td>\n",
       "      <td>21.1902642,-86.8198375</td>\n",
       "      <td>875000.0</td>\n",
       "      <td>USD</td>\n",
       "      <td>16457437.50</td>\n",
       "      <td>875000.00</td>\n",
       "      <td>0.0</td>\n",
       "      <td>263.0</td>\n",
       "      <td>NaN</td>\n",
       "      <td>3326.996198</td>\n",
       "      <td>NaN</td>\n",
       "      <td>NaN</td>\n",
       "      <td>NaN</td>\n",
       "      <td>http://cancun.properati.com.mx/hg4t_venta_depa...</td>\n",
       "    </tr>\n",
       "  </tbody>\n",
       "</table>\n",
       "</div>"
      ],
      "text/plain": [
       "   Unnamed: 0 operation property_type  \\\n",
       "0           1      sell     apartment   \n",
       "1           2      sell         house   \n",
       "2           3      sell     apartment   \n",
       "3           4      sell     apartment   \n",
       "4           5      sell     apartment   \n",
       "\n",
       "                    place_with_parent_names                 lat-lon  \\\n",
       "0  |Miguel Hidalgo|Distrito Federal|México|   23.634501,-102.552788   \n",
       "1      |Iztapalapa|Distrito Federal|México|     19.31033,-99.068557   \n",
       "2         |Tlalpan|Distrito Federal|México|    19.279771,-99.234597   \n",
       "3  |Miguel Hidalgo|Distrito Federal|México|   23.634501,-102.552788   \n",
       "4       |Benito Juárez|Quintana Roo|México|  21.1902642,-86.8198375   \n",
       "\n",
       "       price currency  price_aprox_local_currency  price_aprox_usd  \\\n",
       "0  5500000.0      MXN                  5450245.50        289775.66   \n",
       "1  1512000.0      MXN                  1498321.97         79661.96   \n",
       "2   926667.0      MXN                   918284.00         48822.82   \n",
       "3  6410000.0      MXN                  6352013.39        337720.36   \n",
       "4   875000.0      USD                 16457437.50        875000.00   \n",
       "\n",
       "   surface_total_in_m2  surface_covered_in_m2  price_usd_per_m2  \\\n",
       "0                  NaN                   54.0               NaN   \n",
       "1                  NaN                   80.0               NaN   \n",
       "2                  NaN                  100.0               NaN   \n",
       "3                  NaN                  135.0               NaN   \n",
       "4                  0.0                  263.0               NaN   \n",
       "\n",
       "    price_per_m2  floor  rooms  expenses  \\\n",
       "0  101851.851900    NaN    NaN       NaN   \n",
       "1   18900.000000    NaN    NaN       NaN   \n",
       "2    9266.670000    NaN    NaN       NaN   \n",
       "3   47481.481480    NaN    NaN       NaN   \n",
       "4    3326.996198    NaN    NaN       NaN   \n",
       "\n",
       "                                       properati_url  \n",
       "0  http://miguel-hidalgo-df.properati.com.mx/o3zb...  \n",
       "1  http://iztapalapa.properati.com.mx/q7t0_venta_...  \n",
       "2  http://tlalpan.properati.com.mx/qbi4_venta_dep...  \n",
       "3  http://miguel-hidalgo-df.properati.com.mx/opeq...  \n",
       "4  http://cancun.properati.com.mx/hg4t_venta_depa...  "
      ]
     },
     "execution_count": 7,
     "metadata": {},
     "output_type": "execute_result"
    }
   ],
   "source": [
    "df = pd.read_csv('/Users/lau_pang/Desktop/WorldQuant/project2/mexico-city-real-estate-1.csv')\n",
    "df.head()"
   ]
  },
  {
   "cell_type": "markdown",
   "metadata": {},
   "source": [
    "Build your `wrangle` function"
   ]
  },
  {
   "cell_type": "code",
   "execution_count": 8,
   "metadata": {},
   "outputs": [],
   "source": [
    "def wrangle(filepath):\n",
    "    df = pd.read_csv(filepath)\n",
    "    #subset to apartments that is in Mexico City and costs less than 100,000\n",
    "    condition1 = df['property_type'] == 'apartment'\n",
    "    condition2 = df['place_with_parent_names'].str.contains('Distrito Federal')\n",
    "    condition3 = df['price_aprox_usd'] < 100000\n",
    "    df = df[condition1 & condition2 & condition3]\n",
    "    \n",
    "    # remove outliers \n",
    "    low, high = df['surface_covered_in_m2'].quantile([0.1, 0.9])\n",
    "    condition4 = df['surface_covered_in_m2'].between(low, high)\n",
    "    df = df[condition4]\n",
    "    \n",
    "    # split 'lat-lon' column\n",
    "    df[['lat', 'lon']] = df['lat-lon'].str.split(',', expand = True).astype(float)\n",
    "    df.drop(columns = 'lat-lon', inplace = True)\n",
    "    \n",
    "    # extract the boroughs from 'place_with_parent_names' columns\n",
    "    df['borough'] = df['place_with_parent_names'].str.split('|', expand = True)[1]\n",
    "    df.drop(columns = 'place_with_parent_names', inplace = True)\n",
    "    \n",
    "    # drop columns with more than 50% null values\n",
    "    df.drop(columns = ['surface_total_in_m2', 'price_usd_per_m2', 'floor', 'rooms', 'expenses'],\n",
    "           inplace = True)\n",
    "    \n",
    "    # drop low- and high-cardinality columns\n",
    "    df.drop(columns = ['operation', 'property_type', 'currency', 'properati_url'],\n",
    "           inplace = True)\n",
    "    \n",
    "    # drop leaky columns\n",
    "    df.drop(columns = ['price', 'price_aprox_local_currency', 'price_per_m2'], inplace = True)\n",
    "    \n",
    "    return df"
   ]
  },
  {
   "cell_type": "markdown",
   "metadata": {},
   "source": [
    "Use this cell to test your wrangle function and explore the data"
   ]
  },
  {
   "cell_type": "code",
   "execution_count": 9,
   "metadata": {},
   "outputs": [
    {
     "data": {
      "text/html": [
       "<div>\n",
       "<style scoped>\n",
       "    .dataframe tbody tr th:only-of-type {\n",
       "        vertical-align: middle;\n",
       "    }\n",
       "\n",
       "    .dataframe tbody tr th {\n",
       "        vertical-align: top;\n",
       "    }\n",
       "\n",
       "    .dataframe thead th {\n",
       "        text-align: right;\n",
       "    }\n",
       "</style>\n",
       "<table border=\"1\" class=\"dataframe\">\n",
       "  <thead>\n",
       "    <tr style=\"text-align: right;\">\n",
       "      <th></th>\n",
       "      <th>Unnamed: 0</th>\n",
       "      <th>price_aprox_usd</th>\n",
       "      <th>surface_covered_in_m2</th>\n",
       "      <th>lat</th>\n",
       "      <th>lon</th>\n",
       "      <th>borough</th>\n",
       "    </tr>\n",
       "  </thead>\n",
       "  <tbody>\n",
       "    <tr>\n",
       "      <th>11</th>\n",
       "      <td>12</td>\n",
       "      <td>94022.66</td>\n",
       "      <td>57.0</td>\n",
       "      <td>23.634501</td>\n",
       "      <td>-102.552788</td>\n",
       "      <td>Benito Juárez</td>\n",
       "    </tr>\n",
       "    <tr>\n",
       "      <th>20</th>\n",
       "      <td>21</td>\n",
       "      <td>70880.12</td>\n",
       "      <td>56.0</td>\n",
       "      <td>19.402413</td>\n",
       "      <td>-99.095391</td>\n",
       "      <td>Iztacalco</td>\n",
       "    </tr>\n",
       "    <tr>\n",
       "      <th>21</th>\n",
       "      <td>22</td>\n",
       "      <td>68228.99</td>\n",
       "      <td>80.0</td>\n",
       "      <td>19.357820</td>\n",
       "      <td>-99.149406</td>\n",
       "      <td>Benito Juárez</td>\n",
       "    </tr>\n",
       "    <tr>\n",
       "      <th>22</th>\n",
       "      <td>23</td>\n",
       "      <td>24235.78</td>\n",
       "      <td>60.0</td>\n",
       "      <td>19.504985</td>\n",
       "      <td>-99.208557</td>\n",
       "      <td>Azcapotzalco</td>\n",
       "    </tr>\n",
       "    <tr>\n",
       "      <th>26</th>\n",
       "      <td>27</td>\n",
       "      <td>94140.20</td>\n",
       "      <td>50.0</td>\n",
       "      <td>19.354219</td>\n",
       "      <td>-99.126244</td>\n",
       "      <td>Coyoacán</td>\n",
       "    </tr>\n",
       "  </tbody>\n",
       "</table>\n",
       "</div>"
      ],
      "text/plain": [
       "    Unnamed: 0  price_aprox_usd  surface_covered_in_m2        lat         lon  \\\n",
       "11          12         94022.66                   57.0  23.634501 -102.552788   \n",
       "20          21         70880.12                   56.0  19.402413  -99.095391   \n",
       "21          22         68228.99                   80.0  19.357820  -99.149406   \n",
       "22          23         24235.78                   60.0  19.504985  -99.208557   \n",
       "26          27         94140.20                   50.0  19.354219  -99.126244   \n",
       "\n",
       "          borough  \n",
       "11  Benito Juárez  \n",
       "20      Iztacalco  \n",
       "21  Benito Juárez  \n",
       "22   Azcapotzalco  \n",
       "26       Coyoacán  "
      ]
     },
     "execution_count": 9,
     "metadata": {},
     "output_type": "execute_result"
    }
   ],
   "source": [
    "df = wrangle('/Users/lau_pang/Desktop/WorldQuant/project2/mexico-city-real-estate-1.csv')\n",
    "df.head()"
   ]
  },
  {
   "cell_type": "markdown",
   "metadata": {},
   "source": [
    "**Task 2.5.2:** Use glob to create the list `files`. It should contain the filenames of all the Mexico City real estate CSVs in the `./data` directory, except for `mexico-city-test-features.csv`."
   ]
  },
  {
   "cell_type": "code",
   "execution_count": 10,
   "metadata": {},
   "outputs": [
    {
     "data": {
      "text/plain": [
       "['/Users/lau_pang/Desktop/WorldQuant/project2/mexico-city-real-estate-5.csv',\n",
       " '/Users/lau_pang/Desktop/WorldQuant/project2/mexico-city-real-estate-4.csv',\n",
       " '/Users/lau_pang/Desktop/WorldQuant/project2/mexico-city-real-estate-1.csv',\n",
       " '/Users/lau_pang/Desktop/WorldQuant/project2/mexico-city-real-estate-3.csv',\n",
       " '/Users/lau_pang/Desktop/WorldQuant/project2/mexico-city-real-estate-2.csv']"
      ]
     },
     "execution_count": 10,
     "metadata": {},
     "output_type": "execute_result"
    }
   ],
   "source": [
    "files = glob('/Users/lau_pang/Desktop/WorldQuant/project2/mexico-city-real-estate-*.csv')\n",
    "files"
   ]
  },
  {
   "cell_type": "markdown",
   "metadata": {},
   "source": [
    "**Task 2.5.3:** Combine your `wrangle` function, a list comprehension, and `pd.concat` to create a DataFrame `df`. It should contain all the properties from the five CSVs in `files`. "
   ]
  },
  {
   "cell_type": "code",
   "execution_count": 11,
   "metadata": {},
   "outputs": [
    {
     "name": "stdout",
     "output_type": "stream",
     "text": [
      "<class 'pandas.core.frame.DataFrame'>\n",
      "RangeIndex: 5473 entries, 0 to 5472\n",
      "Data columns (total 6 columns):\n",
      " #   Column                 Non-Null Count  Dtype  \n",
      "---  ------                 --------------  -----  \n",
      " 0   Unnamed: 0             5473 non-null   int64  \n",
      " 1   price_aprox_usd        5473 non-null   float64\n",
      " 2   surface_covered_in_m2  5473 non-null   float64\n",
      " 3   lat                    5149 non-null   float64\n",
      " 4   lon                    5149 non-null   float64\n",
      " 5   borough                5473 non-null   object \n",
      "dtypes: float64(4), int64(1), object(1)\n",
      "memory usage: 256.7+ KB\n",
      "None\n"
     ]
    },
    {
     "data": {
      "text/html": [
       "<div>\n",
       "<style scoped>\n",
       "    .dataframe tbody tr th:only-of-type {\n",
       "        vertical-align: middle;\n",
       "    }\n",
       "\n",
       "    .dataframe tbody tr th {\n",
       "        vertical-align: top;\n",
       "    }\n",
       "\n",
       "    .dataframe thead th {\n",
       "        text-align: right;\n",
       "    }\n",
       "</style>\n",
       "<table border=\"1\" class=\"dataframe\">\n",
       "  <thead>\n",
       "    <tr style=\"text-align: right;\">\n",
       "      <th></th>\n",
       "      <th>Unnamed: 0</th>\n",
       "      <th>price_aprox_usd</th>\n",
       "      <th>surface_covered_in_m2</th>\n",
       "      <th>lat</th>\n",
       "      <th>lon</th>\n",
       "      <th>borough</th>\n",
       "    </tr>\n",
       "  </thead>\n",
       "  <tbody>\n",
       "    <tr>\n",
       "      <th>0</th>\n",
       "      <td>2</td>\n",
       "      <td>82737.39</td>\n",
       "      <td>75.0</td>\n",
       "      <td>19.362690</td>\n",
       "      <td>-99.150565</td>\n",
       "      <td>Benito Juárez</td>\n",
       "    </tr>\n",
       "    <tr>\n",
       "      <th>1</th>\n",
       "      <td>4</td>\n",
       "      <td>72197.60</td>\n",
       "      <td>62.0</td>\n",
       "      <td>19.291345</td>\n",
       "      <td>-99.124312</td>\n",
       "      <td>Tlalpan</td>\n",
       "    </tr>\n",
       "    <tr>\n",
       "      <th>2</th>\n",
       "      <td>5</td>\n",
       "      <td>44277.72</td>\n",
       "      <td>85.0</td>\n",
       "      <td>19.354987</td>\n",
       "      <td>-99.061709</td>\n",
       "      <td>Iztapalapa</td>\n",
       "    </tr>\n",
       "    <tr>\n",
       "      <th>3</th>\n",
       "      <td>14</td>\n",
       "      <td>60589.45</td>\n",
       "      <td>52.0</td>\n",
       "      <td>19.469681</td>\n",
       "      <td>-99.086136</td>\n",
       "      <td>Gustavo A. Madero</td>\n",
       "    </tr>\n",
       "    <tr>\n",
       "      <th>4</th>\n",
       "      <td>19</td>\n",
       "      <td>47429.08</td>\n",
       "      <td>53.0</td>\n",
       "      <td>19.443592</td>\n",
       "      <td>-99.121407</td>\n",
       "      <td>Venustiano Carranza</td>\n",
       "    </tr>\n",
       "  </tbody>\n",
       "</table>\n",
       "</div>"
      ],
      "text/plain": [
       "   Unnamed: 0  price_aprox_usd  surface_covered_in_m2        lat        lon  \\\n",
       "0           2         82737.39                   75.0  19.362690 -99.150565   \n",
       "1           4         72197.60                   62.0  19.291345 -99.124312   \n",
       "2           5         44277.72                   85.0  19.354987 -99.061709   \n",
       "3          14         60589.45                   52.0  19.469681 -99.086136   \n",
       "4          19         47429.08                   53.0  19.443592 -99.121407   \n",
       "\n",
       "               borough  \n",
       "0        Benito Juárez  \n",
       "1              Tlalpan  \n",
       "2           Iztapalapa  \n",
       "3    Gustavo A. Madero  \n",
       "4  Venustiano Carranza  "
      ]
     },
     "execution_count": 11,
     "metadata": {},
     "output_type": "execute_result"
    }
   ],
   "source": [
    "df = [wrangle(file) for file in files]\n",
    "df = pd.concat(df, ignore_index = True)\n",
    "print(df.info())\n",
    "df.head()"
   ]
  },
  {
   "cell_type": "markdown",
   "metadata": {},
   "source": [
    "## Explore"
   ]
  },
  {
   "cell_type": "markdown",
   "metadata": {},
   "source": [
    "**Task 2.5.4:** Create a histogram showing the distribution of apartment prices (`\"price_aprox_usd\"`) in `df`. Be sure to label the x-axis `\"Area [sq meters]\"`, the y-axis `\"Count\"`, and give it the title `\"Distribution of Apartment Prices\"`.<br>\n",
    "<br>\n",
    "What does the distribution of price look like? Is the data normal, a little skewed, or very skewed?"
   ]
  },
  {
   "cell_type": "markdown",
   "metadata": {},
   "source": [
    "Plot distribution of price"
   ]
  },
  {
   "cell_type": "code",
   "execution_count": 12,
   "metadata": {},
   "outputs": [
    {
     "data": {
      "image/png": "[encoded data removed]",
      "text/plain": [
       "<Figure size 432x288 with 1 Axes>"
      ]
     },
     "metadata": {
      "needs_background": "light"
     },
     "output_type": "display_data"
    }
   ],
   "source": [
    "plt.hist(df['price_aprox_usd'])\n",
    "plt.xlabel('Area [sq meters]')\n",
    "plt.ylabel('Count')\n",
    "plt.title('Distribution of Apartment Prices');"
   ]
  },
  {
   "cell_type": "markdown",
   "metadata": {},
   "source": [
    "**Task 2.5.5:** Create a scatter plot that shows apartment price (`\"price_aprox_usd\"`) as a function of apartment size (`\"surface_covered_in_m2\"`). Be sure to label your axes `\"Price [USD]\"` and `\"Area [sq meters]\"`, respectively. Your plot should have the title `\"Mexico City: Price vs. Area\"`.<br>\n",
    "<br>\n",
    "Do you see a relationship between price and area in the data? How is this similar to or different from the Buenos Aires dataset?"
   ]
  },
  {
   "cell_type": "markdown",
   "metadata": {},
   "source": [
    "Plot price vs area"
   ]
  },
  {
   "cell_type": "code",
   "execution_count": 13,
   "metadata": {},
   "outputs": [
    {
     "data": {
      "image/png": "[encoded data removed]",
      "text/plain": [
       "<Figure size 432x288 with 1 Axes>"
      ]
     },
     "metadata": {
      "needs_background": "light"
     },
     "output_type": "display_data"
    }
   ],
   "source": [
    "plt.scatter(x = df[\"surface_covered_in_m2\"], y = df['price_aprox_usd'])\n",
    "plt.xlabel('Area [sq meters]')\n",
    "plt.ylabel('Price [USD]')\n",
    "plt.title('Mexico City: Price vs. Area');"
   ]
  },
  {
   "cell_type": "markdown",
   "metadata": {},
   "source": [
    "## Split"
   ]
  },
  {
   "cell_type": "markdown",
   "metadata": {},
   "source": [
    "**Task 2.5.7:** Create your feature matrix `X_train` and target vector `y_train`. Your target is `\"price_aprox_usd\"`. Your features should be all the columns that remain in the DataFrame you cleaned above."
   ]
  },
  {
   "cell_type": "markdown",
   "metadata": {},
   "source": [
    "Split data into feature matrix `X_train` and target vector `y_train`."
   ]
  },
  {
   "cell_type": "code",
   "execution_count": 14,
   "metadata": {},
   "outputs": [],
   "source": [
    "target = 'price_aprox_usd'\n",
    "features = ['surface_covered_in_m2', 'lat', 'lon', 'borough']"
   ]
  },
  {
   "cell_type": "code",
   "execution_count": 15,
   "metadata": {},
   "outputs": [],
   "source": [
    "X_train = df[features]\n",
    "y_train = df[target]"
   ]
  },
  {
   "cell_type": "markdown",
   "metadata": {},
   "source": [
    "# Build Model"
   ]
  },
  {
   "cell_type": "markdown",
   "metadata": {},
   "source": [
    "## Baseline"
   ]
  },
  {
   "cell_type": "markdown",
   "metadata": {},
   "source": [
    "**Task 2.5.8:** Calculate the baseline mean absolute error for your model."
   ]
  },
  {
   "cell_type": "code",
   "execution_count": 16,
   "metadata": {},
   "outputs": [
    {
     "name": "stdout",
     "output_type": "stream",
     "text": [
      "Mean apt price: 54246.53149826428\n",
      "Baseline MAE: 17239.9394758883\n"
     ]
    }
   ],
   "source": [
    "y_mean = y_train.mean()\n",
    "y_pred_baseline = [y_mean] * len(y_train)\n",
    "baseline_mae = mean_absolute_error(y_train, y_pred_baseline)\n",
    "print(\"Mean apt price:\", y_mean)\n",
    "print(\"Baseline MAE:\", baseline_mae)"
   ]
  },
  {
   "cell_type": "markdown",
   "metadata": {},
   "source": [
    "## Iterate"
   ]
  },
  {
   "cell_type": "markdown",
   "metadata": {},
   "source": [
    "**Task 2.5.9:** Create a pipeline named `model` that contains all the transformers necessary for this dataset and one of the predictors you've used during this project. Then fit your model to the training data."
   ]
  },
  {
   "cell_type": "markdown",
   "metadata": {},
   "source": [
    "Build Model"
   ]
  },
  {
   "cell_type": "code",
   "execution_count": 17,
   "metadata": {},
   "outputs": [
    {
     "data": {
      "text/plain": [
       "Pipeline(steps=[('onehotencoder',\n",
       "                 OneHotEncoder(cols=['borough'], use_cat_names=True)),\n",
       "                ('simpleimputer', SimpleImputer()), ('ridge', Ridge())])"
      ]
     },
     "execution_count": 17,
     "metadata": {},
     "output_type": "execute_result"
    }
   ],
   "source": [
    "model = make_pipeline(\n",
    "    OneHotEncoder(use_cat_names = True),\n",
    "    SimpleImputer(),\n",
    "    Ridge()\n",
    ")\n",
    "# Fit model\n",
    "model.fit(X_train, y_train)"
   ]
  },
  {
   "cell_type": "markdown",
   "metadata": {},
   "source": [
    "## Evaluate"
   ]
  },
  {
   "cell_type": "markdown",
   "metadata": {},
   "source": [
    "**Task 2.5.10:** Read the CSV file `mexico-city-test-features.csv` into the DataFrame `X_test`."
   ]
  },
  {
   "cell_type": "markdown",
   "metadata": {},
   "source": [
    "<div class=\"alert alert-block alert-info\"><br>\n",
    "<b>Tip:</b> Make sure the <code>X_train</code> you used to train your model has the same column order as <code>X_test</code>. Otherwise, it may hurt your model's performance.<br>\n",
    "</div>"
   ]
  },
  {
   "cell_type": "code",
   "execution_count": 25,
   "metadata": {},
   "outputs": [
    {
     "name": "stdout",
     "output_type": "stream",
     "text": [
      "<class 'pandas.core.frame.DataFrame'>\n",
      "RangeIndex: 1041 entries, 0 to 1040\n",
      "Data columns (total 4 columns):\n",
      " #   Column                 Non-Null Count  Dtype  \n",
      "---  ------                 --------------  -----  \n",
      " 0   surface_covered_in_m2  1041 non-null   int64  \n",
      " 1   lat                    986 non-null    float64\n",
      " 2   lon                    986 non-null    float64\n",
      " 3   borough                1041 non-null   object \n",
      "dtypes: float64(2), int64(1), object(1)\n",
      "memory usage: 32.7+ KB\n",
      "None\n"
     ]
    },
    {
     "data": {
      "text/html": [
       "<div>\n",
       "<style scoped>\n",
       "    .dataframe tbody tr th:only-of-type {\n",
       "        vertical-align: middle;\n",
       "    }\n",
       "\n",
       "    .dataframe tbody tr th {\n",
       "        vertical-align: top;\n",
       "    }\n",
       "\n",
       "    .dataframe thead th {\n",
       "        text-align: right;\n",
       "    }\n",
       "</style>\n",
       "<table border=\"1\" class=\"dataframe\">\n",
       "  <thead>\n",
       "    <tr style=\"text-align: right;\">\n",
       "      <th></th>\n",
       "      <th>surface_covered_in_m2</th>\n",
       "      <th>lat</th>\n",
       "      <th>lon</th>\n",
       "      <th>borough</th>\n",
       "    </tr>\n",
       "  </thead>\n",
       "  <tbody>\n",
       "    <tr>\n",
       "      <th>0</th>\n",
       "      <td>60</td>\n",
       "      <td>19.493185</td>\n",
       "      <td>-99.205755</td>\n",
       "      <td>Azcapotzalco</td>\n",
       "    </tr>\n",
       "    <tr>\n",
       "      <th>1</th>\n",
       "      <td>55</td>\n",
       "      <td>19.307247</td>\n",
       "      <td>-99.166700</td>\n",
       "      <td>Coyoacán</td>\n",
       "    </tr>\n",
       "    <tr>\n",
       "      <th>2</th>\n",
       "      <td>50</td>\n",
       "      <td>19.363469</td>\n",
       "      <td>-99.010141</td>\n",
       "      <td>Iztapalapa</td>\n",
       "    </tr>\n",
       "    <tr>\n",
       "      <th>3</th>\n",
       "      <td>60</td>\n",
       "      <td>19.474655</td>\n",
       "      <td>-99.189277</td>\n",
       "      <td>Azcapotzalco</td>\n",
       "    </tr>\n",
       "    <tr>\n",
       "      <th>4</th>\n",
       "      <td>74</td>\n",
       "      <td>19.394628</td>\n",
       "      <td>-99.143842</td>\n",
       "      <td>Benito Juárez</td>\n",
       "    </tr>\n",
       "  </tbody>\n",
       "</table>\n",
       "</div>"
      ],
      "text/plain": [
       "   surface_covered_in_m2        lat        lon        borough\n",
       "0                     60  19.493185 -99.205755   Azcapotzalco\n",
       "1                     55  19.307247 -99.166700       Coyoacán\n",
       "2                     50  19.363469 -99.010141     Iztapalapa\n",
       "3                     60  19.474655 -99.189277   Azcapotzalco\n",
       "4                     74  19.394628 -99.143842  Benito Juárez"
      ]
     },
     "execution_count": 25,
     "metadata": {},
     "output_type": "execute_result"
    }
   ],
   "source": [
    "X_test = pd.read_csv('/Users/lau_pang/Desktop/WorldQuant/project2/mexico-city-test-features.csv')\n",
    "X_test.drop(columns = 'Unnamed: 0', inplace =True)\n",
    "print(X_test.info())\n",
    "X_test.head()"
   ]
  },
  {
   "cell_type": "markdown",
   "metadata": {},
   "source": [
    "**Task 2.5.11:** Use your model to generate a Series of predictions for `X_test`. When you submit your predictions to the grader, it will calculate the mean absolute error for your model."
   ]
  },
  {
   "cell_type": "code",
   "execution_count": 26,
   "metadata": {},
   "outputs": [
    {
     "data": {
      "text/plain": [
       "0    53538.366480\n",
       "1    53171.988369\n",
       "2    34263.884179\n",
       "3    53488.425607\n",
       "4    68738.924884\n",
       "dtype: float64"
      ]
     },
     "execution_count": 26,
     "metadata": {},
     "output_type": "execute_result"
    }
   ],
   "source": [
    "y_test_pred = pd.Series(model.predict(X_test))\n",
    "y_test_pred.head()"
   ]
  },
  {
   "cell_type": "markdown",
   "metadata": {},
   "source": [
    "# Communicate Results"
   ]
  },
  {
   "cell_type": "markdown",
   "metadata": {},
   "source": [
    "**Task 2.5.12:** Create a Series named `feat_imp`. The index should contain the names of all the features your model considers when making predictions; the values should be the coefficient values associated with each feature. The Series should be sorted ascending by absolute value.  "
   ]
  },
  {
   "cell_type": "code",
   "execution_count": 27,
   "metadata": {},
   "outputs": [
    {
     "data": {
      "text/plain": [
       "surface_covered_in_m2               291.654156\n",
       "lat                                 478.901375\n",
       "lon                               -2492.221814\n",
       "borough_Benito Juárez             13778.188880\n",
       "borough_Tlalpan                   10319.429804\n",
       "borough_Iztapalapa               -13349.017448\n",
       "borough_Gustavo A. Madero         -6637.429757\n",
       "borough_Venustiano Carranza       -5609.918629\n",
       "borough_Iztacalco                   405.403127\n",
       "borough_Coyoacán                   3737.561001\n",
       "borough_Cuauhtémoc                 -350.531990\n",
       "borough_Miguel Hidalgo             1977.314718\n",
       "borough_Azcapotzalco               2459.288646\n",
       "borough_Tláhuac                  -14166.869486\n",
       "borough_Álvaro Obregón             3275.121061\n",
       "borough_La Magdalena Contreras    -5925.666450\n",
       "borough_Xochimilco                  929.857400\n",
       "borough_Cuajimalpa de Morelos      9157.269123\n",
       "dtype: float64"
      ]
     },
     "execution_count": 27,
     "metadata": {},
     "output_type": "execute_result"
    }
   ],
   "source": [
    "coefficients = model.named_steps['ridge'].coef_\n",
    "features = model.named_steps['onehotencoder'].get_feature_names()\n",
    "feat_imp = pd.Series(coefficients, index = features)\n",
    "feat_imp"
   ]
  },
  {
   "cell_type": "markdown",
   "metadata": {},
   "source": [
    "**Task 2.5.13:** Create a horizontal bar chart that shows the **10 most influential** coefficients for your model. Be sure to label your x- and y-axis `\"Importance [USD]\"` and `\"Feature\"`, respectively, and give your chart the title `\"Feature Importances for Apartment Price\"`."
   ]
  },
  {
   "cell_type": "markdown",
   "metadata": {},
   "source": [
    "Create horizontal bar chart"
   ]
  },
  {
   "cell_type": "code",
   "execution_count": 28,
   "metadata": {},
   "outputs": [
    {
     "data": {
      "text/plain": [
       "Text(0.5, 1.0, 'Feature Importances for Apartment Price')"
      ]
     },
     "execution_count": 28,
     "metadata": {},
     "output_type": "execute_result"
    },
    {
     "data": {
      "image/png": "[encoded data removed]",
      "text/plain": [
       "<Figure size 432x288 with 1 Axes>"
      ]
     },
     "metadata": {
      "needs_background": "light"
     },
     "output_type": "display_data"
    }
   ],
   "source": [
    "feat_imp.sort_values(key = abs).tail(10).plot(kind = 'barh')\n",
    "plt.xlabel(\"Importance [USD]\")\n",
    "plt.ylabel(\"Importance [USD]\")\n",
    "plt.title('Feature Importances for Apartment Price')"
   ]
  }
 ],
 "metadata": {
  "kernelspec": {
   "display_name": "Python 3 (ipykernel)",
   "language": "python",
   "name": "python3"
  },
  "language_info": {
   "codemirror_mode": {
    "name": "ipython",
    "version": 3
   },
   "file_extension": ".py",
   "mimetype": "text/x-python",
   "name": "python",
   "nbconvert_exporter": "python",
   "pygments_lexer": "ipython3",
   "version": "3.9.7"
  },
  "toc": {
   "base_numbering": 1,
   "nav_menu": {},
   "number_sections": true,
   "sideBar": true,
   "skip_h1_title": false,
   "title_cell": "Table of Contents",
   "title_sidebar": "Contents",
   "toc_cell": false,
   "toc_position": {},
   "toc_section_display": true,
   "toc_window_display": false
  },
  "varInspector": {
   "cols": {
    "lenName": 16,
    "lenType": 16,
    "lenVar": 40
   },
   "kernels_config": {
    "python": {
     "delete_cmd_postfix": "",
     "delete_cmd_prefix": "del ",
     "library": "var_list.py",
     "varRefreshCmd": "print(var_dic_list())"
    },
    "r": {
     "delete_cmd_postfix": ") ",
     "delete_cmd_prefix": "rm(",
     "library": "var_list.r",
     "varRefreshCmd": "cat(var_dic_list()) "
    }
   },
   "types_to_exclude": [
    "module",
    "function",
    "builtin_function_or_method",
    "instance",
    "_Feature"
   ],
   "window_display": false
  }
 },
 "nbformat": 4,
 "nbformat_minor": 2
}
